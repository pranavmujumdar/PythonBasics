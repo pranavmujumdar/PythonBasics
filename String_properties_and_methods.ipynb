{
 "cells": [
  {
   "cell_type": "markdown",
   "metadata": {},
   "source": [
    "# Immutability\n",
    "Strings are immutable so once a variable is declared with a string we can't go and change a specific character in the string \n",
    "\n",
    "try running the two snippets below "
   ]
  },
  {
   "cell_type": "code",
   "execution_count": 7,
   "metadata": {},
   "outputs": [],
   "source": [
    "var1 = \"Tickle\""
   ]
  },
  {
   "cell_type": "code",
   "execution_count": 2,
   "metadata": {},
   "outputs": [
    {
     "ename": "TypeError",
     "evalue": "'str' object does not support item assignment",
     "output_type": "error",
     "traceback": [
      "\u001b[0;31m---------------------------------------------------------------------------\u001b[0m",
      "\u001b[0;31mTypeError\u001b[0m                                 Traceback (most recent call last)",
      "\u001b[0;32m<ipython-input-2-0655de494a17>\u001b[0m in \u001b[0;36m<module>\u001b[0;34m\u001b[0m\n\u001b[0;32m----> 1\u001b[0;31m \u001b[0mvar1\u001b[0m\u001b[0;34m[\u001b[0m\u001b[0;36m0\u001b[0m\u001b[0;34m]\u001b[0m\u001b[0;34m=\u001b[0m\u001b[0;34m'P'\u001b[0m\u001b[0;34m\u001b[0m\u001b[0;34m\u001b[0m\u001b[0m\n\u001b[0m",
      "\u001b[0;31mTypeError\u001b[0m: 'str' object does not support item assignment"
     ]
    }
   ],
   "source": [
    "var1[0] = 'P'"
   ]
  },
  {
   "cell_type": "code",
   "execution_count": 3,
   "metadata": {},
   "outputs": [
    {
     "name": "stdout",
     "output_type": "stream",
     "text": [
      "Pickle\n"
     ]
    }
   ],
   "source": [
    "# to change the Tickle to Pickle we can use slicing\n",
    "var1 = var1[1:] # sliced the var1 to remove the T\n",
    "var2 = 'P' + var1; # concatenated the P with var1\n",
    "print(var2)"
   ]
  },
  {
   "cell_type": "code",
   "execution_count": 5,
   "metadata": {},
   "outputs": [
    {
     "name": "stdout",
     "output_type": "stream",
     "text": [
      "PicklePicklePicklePicklePickle\n"
     ]
    }
   ],
   "source": [
    "# we can multiply strings as well\n",
    "print(var2 * 5)"
   ]
  },
  {
   "cell_type": "markdown",
   "metadata": {},
   "source": [
    "# String Methods\n",
    "once a string is defined put a dot in front of it to see all the methods in python related to the string\n",
    "1. to make uppercase use upper()\n",
    "2. to make lowercase use lower()\n",
    "3. to split the string use split()\n",
    "4. to get boolean results use endswith(), startswith(), isalpha, isdigit(), isspace(), etc."
   ]
  },
  {
   "cell_type": "code",
   "execution_count": 27,
   "metadata": {},
   "outputs": [
    {
     "name": "stdout",
     "output_type": "stream",
     "text": [
      "TICKLE\n",
      "Tickle\n",
      "True\n",
      "False\n",
      "True\n",
      "True\n",
      "False\n",
      "False\n",
      "3\n",
      "tickle\n",
      "['this', 'is', 'a', 'test', 'string']\n",
      "['', 'his is a ', 'es', ' s', 'ring']\n",
      "This is a test string\n"
     ]
    }
   ],
   "source": [
    "# makes the string uppercase with upper()\n",
    "# DOES NOT change the string in the variable\n",
    "print(var1.upper())\n",
    "print(var1)\n",
    "print(var1.endswith('e')) #returns true as it endswith an e\n",
    "print(var1.isspace())\n",
    "print(var1.isalnum())\n",
    "print(var1.isalpha())\n",
    "print(var1.isdigit())\n",
    "print(var1.isupper())\n",
    "print(var1.index('k')) #finds the index of the characer\n",
    "print(var1.casefold())\n",
    "var2 = \"this is a test string\"\n",
    "print(var2.split()) #puts the different words in a list of words on whitespaces by default\n",
    "print(var2.split('t')) # lets split on t it will remove all the ts and split the string\n",
    "print(var2.capitalize()) #capitalizes the first character of the string"
   ]
  },
  {
   "cell_type": "markdown",
   "metadata": {},
   "source": [
    "# String Interpolation\n",
    "1. We can use .format method uses {} \n",
    "* to input the value in a string the order has to be specific and properly maintained \n",
    "* we can use index of the element in the format to use a specific value \n",
    "* can also assign a letter to the element in the format and use that"
   ]
  },
  {
   "cell_type": "code",
   "execution_count": 31,
   "metadata": {},
   "outputs": [
    {
     "name": "stdout",
     "output_type": "stream",
     "text": [
      "this is the INSERTED string Once Again!! with a 567\n"
     ]
    }
   ],
   "source": [
    "print('this is the {} string {} {} {}'.format('INSERTED', 'Once Again!!', 'with a', 567))"
   ]
  },
  {
   "cell_type": "code",
   "execution_count": 34,
   "metadata": {},
   "outputs": [
    {
     "name": "stdout",
     "output_type": "stream",
     "text": [
      "bond is The name\n"
     ]
    }
   ],
   "source": [
    "print(\"{3} {2} {0} {1}\".format('The', 'name', 'is', 'bond'))"
   ]
  },
  {
   "cell_type": "code",
   "execution_count": 39,
   "metadata": {},
   "outputs": [
    {
     "name": "stdout",
     "output_type": "stream",
     "text": [
      "The name is 7\n"
     ]
    }
   ],
   "source": [
    "print(\"{t} {n} {i} {e}\".format(t='The', n='name', i='is', e=7))"
   ]
  }
 ],
 "metadata": {
  "kernelspec": {
   "display_name": "Python 3",
   "language": "python",
   "name": "python3"
  },
  "language_info": {
   "codemirror_mode": {
    "name": "ipython",
    "version": 3
   },
   "file_extension": ".py",
   "mimetype": "text/x-python",
   "name": "python",
   "nbconvert_exporter": "python",
   "pygments_lexer": "ipython3",
   "version": "3.7.4"
  }
 },
 "nbformat": 4,
 "nbformat_minor": 2
}
