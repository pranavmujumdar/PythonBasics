{
 "cells": [
  {
   "cell_type": "markdown",
   "metadata": {},
   "source": [
    "# Dictionaries in Python\n",
    "* **Unordered** mappings for storing obejcts, \n",
    "* Use Key-Value Pair\n",
    "* Allows quick search without knowing the index location\n",
    "* Uses {} and colons\n",
    "\n",
    "for example\n",
    "```python\n",
    "user_details = {\n",
    "    'name':'Pranav Mujumdar',\n",
    "    'address' : '58 Queensbury'\n",
    "}\n",
    "# here we can quickly grab the address using the Address key so there is no need to know the index of the address\n",
    "```\n",
    "* **CANNOT BE SORTED, INDEXED OR SLICED**\n"
   ]
  },
  {
   "cell_type": "code",
   "execution_count": 2,
   "metadata": {},
   "outputs": [],
   "source": [
    "user_details = {\n",
    "    'name':'Pranav Mujumdar',\n",
    "    'address' : '58 Queensbury',\n",
    "    'city' : 'Boston'\n",
    "}"
   ]
  },
  {
   "cell_type": "code",
   "execution_count": 4,
   "metadata": {},
   "outputs": [
    {
     "name": "stdout",
     "output_type": "stream",
     "text": [
      "{'name': 'Pranav Mujumdar', 'address': '58 Queensbury', 'city': 'Boston'}\n"
     ]
    }
   ],
   "source": [
    "print(user_details)"
   ]
  },
  {
   "cell_type": "code",
   "execution_count": 5,
   "metadata": {},
   "outputs": [
    {
     "name": "stdout",
     "output_type": "stream",
     "text": [
      "Boston\n"
     ]
    }
   ],
   "source": [
    "# to access a specific value in the dictionary we use the key\n",
    "print(user_details['city'])"
   ]
  },
  {
   "cell_type": "code",
   "execution_count": 9,
   "metadata": {},
   "outputs": [],
   "source": [
    "# keys can be strings or ints \n",
    "prices = {\n",
    "    23:45\n",
    "}"
   ]
  },
  {
   "cell_type": "code",
   "execution_count": 10,
   "metadata": {},
   "outputs": [
    {
     "data": {
      "text/plain": [
       "45"
      ]
     },
     "execution_count": 10,
     "metadata": {},
     "output_type": "execute_result"
    }
   ],
   "source": [
    "prices[23]"
   ]
  },
  {
   "cell_type": "code",
   "execution_count": 11,
   "metadata": {},
   "outputs": [],
   "source": [
    "groceries = {\n",
    "    'apples':2.99,\n",
    "    'oranges':1.99,\n",
    "    'bananas':0.99\n",
    "}"
   ]
  },
  {
   "cell_type": "code",
   "execution_count": 12,
   "metadata": {},
   "outputs": [
    {
     "data": {
      "text/plain": [
       "2.99"
      ]
     },
     "execution_count": 12,
     "metadata": {},
     "output_type": "execute_result"
    }
   ],
   "source": [
    "groceries['apples']"
   ]
  },
  {
   "cell_type": "code",
   "execution_count": 52,
   "metadata": {},
   "outputs": [],
   "source": [
    "# dictionaries take lists and dictionaries too can be nested\n",
    "new_dict = {\n",
    "    'key1':1235,\n",
    "    'key2': \"string\",\n",
    "    'key3': [\"this\", \"is\", \"a\", \"list\"],\n",
    "    'key4': {'anotherkey': 55}\n",
    "}"
   ]
  },
  {
   "cell_type": "code",
   "execution_count": 53,
   "metadata": {},
   "outputs": [
    {
     "name": "stdout",
     "output_type": "stream",
     "text": [
      "this\n"
     ]
    }
   ],
   "source": [
    "# we can fetch specific index from the list iside the dictionary\n",
    "print(new_dict['key3'][0])"
   ]
  },
  {
   "cell_type": "code",
   "execution_count": 18,
   "metadata": {},
   "outputs": [
    {
     "name": "stdout",
     "output_type": "stream",
     "text": [
      "55\n"
     ]
    }
   ],
   "source": [
    "# we can fetch the value inside the other dictionary\n",
    "print(new_dict[\"key4\"]['anotherkey'])"
   ]
  },
  {
   "cell_type": "code",
   "execution_count": 36,
   "metadata": {},
   "outputs": [],
   "source": [
    "dict1 = {\n",
    "    'k1':['a','b','c']\n",
    "}"
   ]
  },
  {
   "cell_type": "code",
   "execution_count": 37,
   "metadata": {},
   "outputs": [],
   "source": [
    "# change the value of the element inside the list\n",
    "dict1['k1'][1] = 'd'"
   ]
  },
  {
   "cell_type": "code",
   "execution_count": 38,
   "metadata": {},
   "outputs": [
    {
     "name": "stdout",
     "output_type": "stream",
     "text": [
      "{'k1': ['a', 'd', 'c']}\n"
     ]
    }
   ],
   "source": [
    "print(dict1)"
   ]
  },
  {
   "cell_type": "code",
   "execution_count": 39,
   "metadata": {},
   "outputs": [],
   "source": [
    "# to add an element to dictionary\n",
    "dict1['k2']=4"
   ]
  },
  {
   "cell_type": "code",
   "execution_count": 40,
   "metadata": {},
   "outputs": [
    {
     "name": "stdout",
     "output_type": "stream",
     "text": [
      "{'k1': ['a', 'd', 'c'], 'k2': 4}\n"
     ]
    }
   ],
   "source": [
    "print(dict1)"
   ]
  },
  {
   "cell_type": "code",
   "execution_count": 41,
   "metadata": {},
   "outputs": [],
   "source": [
    "# To overwrite an existing key\n",
    "dict1['k1']=['x','y','z']"
   ]
  },
  {
   "cell_type": "code",
   "execution_count": 42,
   "metadata": {},
   "outputs": [
    {
     "name": "stdout",
     "output_type": "stream",
     "text": [
      "{'k1': ['x', 'y', 'z'], 'k2': 4}\n"
     ]
    }
   ],
   "source": [
    "print(dict1)"
   ]
  },
  {
   "cell_type": "code",
   "execution_count": 46,
   "metadata": {},
   "outputs": [
    {
     "name": "stdout",
     "output_type": "stream",
     "text": [
      "dict_keys(['k1', 'k2'])\n"
     ]
    }
   ],
   "source": [
    "# to get all the keys in the dictionary use keys()\n",
    "print(dict1.keys())"
   ]
  },
  {
   "cell_type": "code",
   "execution_count": 47,
   "metadata": {},
   "outputs": [
    {
     "name": "stdout",
     "output_type": "stream",
     "text": [
      "dict_values([['x', 'y', 'z'], 4])\n"
     ]
    }
   ],
   "source": [
    "# to get all the values use values()\n",
    "print(dict1.values())"
   ]
  },
  {
   "cell_type": "code",
   "execution_count": 48,
   "metadata": {},
   "outputs": [
    {
     "name": "stdout",
     "output_type": "stream",
     "text": [
      "dict_items([('k1', ['x', 'y', 'z']), ('k2', 4)])\n"
     ]
    }
   ],
   "source": [
    "# to get the items use items()\n",
    "print(dict1.items())"
   ]
  }
 ],
 "metadata": {
  "kernelspec": {
   "display_name": "Python 3",
   "language": "python",
   "name": "python3"
  },
  "language_info": {
   "codemirror_mode": {
    "name": "ipython",
    "version": 3
   },
   "file_extension": ".py",
   "mimetype": "text/x-python",
   "name": "python",
   "nbconvert_exporter": "python",
   "pygments_lexer": "ipython3",
   "version": "3.7.4"
  }
 },
 "nbformat": 4,
 "nbformat_minor": 2
}
