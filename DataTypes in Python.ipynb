{
 "cells": [
  {
   "cell_type": "markdown",
   "metadata": {},
   "source": [
    "# Rules for Varible names in python\n",
    "1. Name can't start with a number\n",
    "2. No spaces allowed in the variable names\n",
    "3. can't use (:',<>?/|\\!@#$%^&*~-+\") as these are specially designated characters\n",
    "4. Avoid special keywords like list or str, or int or float\n",
    "\n",
    "## Best Practices \n",
    "1. Use lowercase names"
   ]
  },
  {
   "cell_type": "markdown",
   "metadata": {},
   "source": [
    "# Python is dynamically typed\n",
    "so \n",
    "```python\n",
    "myName = 2\n",
    "#and later\n",
    "myName = \"Pranav\"\n",
    "```\n",
    "is allowed"
   ]
  },
  {
   "cell_type": "code",
   "execution_count": 2,
   "metadata": {},
   "outputs": [],
   "source": [
    "myvar = 10"
   ]
  },
  {
   "cell_type": "code",
   "execution_count": 3,
   "metadata": {},
   "outputs": [
    {
     "data": {
      "text/plain": [
       "10"
      ]
     },
     "execution_count": 3,
     "metadata": {},
     "output_type": "execute_result"
    }
   ],
   "source": [
    "myvar"
   ]
  },
  {
   "cell_type": "code",
   "execution_count": 10,
   "metadata": {},
   "outputs": [],
   "source": [
    "myvar = 20"
   ]
  },
  {
   "cell_type": "code",
   "execution_count": 11,
   "metadata": {},
   "outputs": [
    {
     "data": {
      "text/plain": [
       "20"
      ]
     },
     "execution_count": 11,
     "metadata": {},
     "output_type": "execute_result"
    }
   ],
   "source": [
    "myvar"
   ]
  },
  {
   "cell_type": "code",
   "execution_count": 12,
   "metadata": {},
   "outputs": [],
   "source": [
    "# if you keep rerunning this cell it will keep on adding the value of myvar  \n",
    "myvar = myvar + myvar"
   ]
  },
  {
   "cell_type": "code",
   "execution_count": 13,
   "metadata": {},
   "outputs": [
    {
     "data": {
      "text/plain": [
       "40"
      ]
     },
     "execution_count": 13,
     "metadata": {},
     "output_type": "execute_result"
    }
   ],
   "source": [
    "myvar"
   ]
  },
  {
   "cell_type": "code",
   "execution_count": 14,
   "metadata": {},
   "outputs": [
    {
     "data": {
      "text/plain": [
       "int"
      ]
     },
     "execution_count": 14,
     "metadata": {},
     "output_type": "execute_result"
    }
   ],
   "source": [
    "# to check the type of variable\n",
    "type(myvar)"
   ]
  },
  {
   "cell_type": "code",
   "execution_count": 15,
   "metadata": {},
   "outputs": [],
   "source": [
    "#change the myvar to floating point variable float\n",
    "myvar = 40.5"
   ]
  },
  {
   "cell_type": "code",
   "execution_count": 16,
   "metadata": {},
   "outputs": [
    {
     "data": {
      "text/plain": [
       "float"
      ]
     },
     "execution_count": 16,
     "metadata": {},
     "output_type": "execute_result"
    }
   ],
   "source": [
    "type(myvar)"
   ]
  },
  {
   "cell_type": "code",
   "execution_count": 17,
   "metadata": {},
   "outputs": [],
   "source": [
    "# lets try building basic logic using variables\n",
    "gross_income = 10000\n",
    "tax_rate = 10\n",
    "net_income = gross_income * (tax_rate/100) "
   ]
  },
  {
   "cell_type": "code",
   "execution_count": 18,
   "metadata": {},
   "outputs": [
    {
     "data": {
      "text/plain": [
       "1000.0"
      ]
     },
     "execution_count": 18,
     "metadata": {},
     "output_type": "execute_result"
    }
   ],
   "source": [
    "net_income"
   ]
  },
  {
   "cell_type": "markdown",
   "metadata": {},
   "source": [
    "# Strings in python\n",
    "to denote strings we need to use double qoutes or single quotes\n",
    "```python\n",
    "my_string = \"using double quotes\"\n",
    "my_string = 'using single quotes'\n",
    "```\n",
    "\n",
    "Strings are ordered sequences so that we can indexing and slicing to make substrings"
   ]
  },
  {
   "cell_type": "code",
   "execution_count": 20,
   "metadata": {},
   "outputs": [
    {
     "data": {
      "text/plain": [
       "'My Name is Pranav'"
      ]
     },
     "execution_count": 20,
     "metadata": {},
     "output_type": "execute_result"
    }
   ],
   "source": [
    "'My Name is Pranav'"
   ]
  },
  {
   "cell_type": "code",
   "execution_count": 21,
   "metadata": {},
   "outputs": [
    {
     "data": {
      "text/plain": [
       "'My Name is Pranav'"
      ]
     },
     "execution_count": 21,
     "metadata": {},
     "output_type": "execute_result"
    }
   ],
   "source": [
    "\"My Name is Pranav\""
   ]
  },
  {
   "cell_type": "code",
   "execution_count": 22,
   "metadata": {},
   "outputs": [
    {
     "ename": "SyntaxError",
     "evalue": "invalid syntax (<ipython-input-22-93ee22d37cd5>, line 1)",
     "output_type": "error",
     "traceback": [
      "\u001b[0;36m  File \u001b[0;32m\"<ipython-input-22-93ee22d37cd5>\"\u001b[0;36m, line \u001b[0;32m1\u001b[0m\n\u001b[0;31m    'My name's pranav\u001b[0m\n\u001b[0m             ^\u001b[0m\n\u001b[0;31mSyntaxError\u001b[0m\u001b[0;31m:\u001b[0m invalid syntax\n"
     ]
    }
   ],
   "source": [
    "'My name's pranav"
   ]
  },
  {
   "cell_type": "code",
   "execution_count": 24,
   "metadata": {},
   "outputs": [
    {
     "data": {
      "text/plain": [
       "\"My Name's Pranav\""
      ]
     },
     "execution_count": 24,
     "metadata": {},
     "output_type": "execute_result"
    }
   ],
   "source": [
    "'My Name\\'s Pranav'"
   ]
  },
  {
   "cell_type": "code",
   "execution_count": 25,
   "metadata": {},
   "outputs": [
    {
     "data": {
      "text/plain": [
       "\"My name's Pranav\""
      ]
     },
     "execution_count": 25,
     "metadata": {},
     "output_type": "execute_result"
    }
   ],
   "source": [
    "\"My name's Pranav\""
   ]
  },
  {
   "cell_type": "code",
   "execution_count": 26,
   "metadata": {},
   "outputs": [
    {
     "name": "stdout",
     "output_type": "stream",
     "text": [
      "My name's Pranav\n"
     ]
    }
   ],
   "source": [
    "#notice the difference in put put when using the print statement\n",
    "'''\n",
    "to see multiple outputs we need to use print otherwise \n",
    "we will only get the last statement returned to output\n",
    "'''\n",
    "print(\"My name's Pranav\")"
   ]
  },
  {
   "cell_type": "code",
   "execution_count": 34,
   "metadata": {},
   "outputs": [
    {
     "name": "stdout",
     "output_type": "stream",
     "text": [
      "PranavMujumdar\n",
      "Pranav Mujumdar\n",
      "Pranav\t\t\tMujumdar\n"
     ]
    }
   ],
   "source": [
    "# String concatenation\n",
    "# notice the difference in output\n",
    "name = \"Pranav\"\n",
    "surname = \"Mujumdar\"\n",
    "print(name + surname)\n",
    "print(name , surname)\n",
    "# print formatting: escape sequences using \\t give tab or \\n goes to new line\n",
    "print(name + \"\\t\\t\\t\"+surname)"
   ]
  },
  {
   "cell_type": "code",
   "execution_count": 35,
   "metadata": {},
   "outputs": [
    {
     "data": {
      "text/plain": [
       "6"
      ]
     },
     "execution_count": 35,
     "metadata": {},
     "output_type": "execute_result"
    }
   ],
   "source": [
    "# to check the length of the string\n",
    "len(name)"
   ]
  },
  {
   "cell_type": "markdown",
   "metadata": {},
   "source": [
    "## Indexing\n",
    "to grab single character use square brackets [] after the string variablename\n",
    "starts from 0 onwards\n",
    "also allows to grab from reverse using *Reverse Indexing* \n",
    "for example the string \"hello\" indexing will be 0,1,2,3,4 with length of string as 5\n",
    "_Reverse Indexing_ 0,-4,-3,-2,-1 so to grab the last character we can use -1"
   ]
  },
  {
   "cell_type": "code",
   "execution_count": 42,
   "metadata": {},
   "outputs": [],
   "source": [
    "var1 = \"Hello World\""
   ]
  },
  {
   "cell_type": "code",
   "execution_count": 43,
   "metadata": {},
   "outputs": [
    {
     "name": "stdout",
     "output_type": "stream",
     "text": [
      "length of string is 11\n",
      "indexing\n",
      "H\n",
      "l\n",
      "r\n",
      "Reverse Indexing\n",
      "d\n",
      "W\n",
      "l\n"
     ]
    }
   ],
   "source": [
    "\n",
    "print(\"length of string is\",len(var1))\n",
    "#indexing\n",
    "print(\"indexing\")\n",
    "print(var1[0])\n",
    "print(var1[3])\n",
    "print(var1[8])\n",
    "\n",
    "#reverse indexing\n",
    "print(\"Reverse Indexing\")\n",
    "print(var1[-1])\n",
    "print(var1[-5])\n",
    "print(var1[-9])"
   ]
  },
  {
   "cell_type": "markdown",
   "metadata": {},
   "source": [
    "## Slicing\n",
    "to grab a section of a string we can use slicing\n",
    "it has [start:stop:step]\n",
    "start, stop and step are numerical values\n",
    "* **Start** is the index of slice start\n",
    "* **Stop** is the index of slice where it will end (not included)\n",
    "* **Step** is the size of jum you want to take (by default wil be one)"
   ]
  },
  {
   "cell_type": "code",
   "execution_count": 58,
   "metadata": {},
   "outputs": [
    {
     "name": "stdout",
     "output_type": "stream",
     "text": [
      "1 llo World\n",
      "2 Hello Wor\n",
      "3 Wor\n",
      "4 loWr\n",
      "5 Hello World\n",
      "6 HloWrd\n",
      "7 dlroW olleH\n"
     ]
    }
   ],
   "source": [
    "# printing substring from start index 2 till end\n",
    "print(1, var1[2:])\n",
    "# printing substring from beggining till 8th character must be printed\n",
    "print(2, var1[:9])\n",
    "# printing substring from index 6 to 8 both inclusive\n",
    "print(3, var1[6:9])\n",
    "# printing substring from index 2 to 10 with step of 2\n",
    "print(4, var1[2:10:2])\n",
    "# printing the whole string using slicing \n",
    "print(5, var1[::])\n",
    "# printing the whole string with step of 2 using \n",
    "print(6, var1[::2])\n",
    "# printing the whole string in reverse\n",
    "print(7, var1[::-1])"
   ]
  }
 ],
 "metadata": {
  "kernelspec": {
   "display_name": "Python 3",
   "language": "python",
   "name": "python3"
  },
  "language_info": {
   "codemirror_mode": {
    "name": "ipython",
    "version": 3
   },
   "file_extension": ".py",
   "mimetype": "text/x-python",
   "name": "python",
   "nbconvert_exporter": "python",
   "pygments_lexer": "ipython3",
   "version": "3.7.4"
  }
 },
 "nbformat": 4,
 "nbformat_minor": 2
}
